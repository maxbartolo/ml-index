{
 "cells": [
  {
   "cell_type": "markdown",
   "metadata": {
    "collapsed": true
   },
   "source": [
    "# Dot (Scalar) Product\n",
    "<hr />"
   ]
  },
  {
   "cell_type": "code",
   "execution_count": 1,
   "metadata": {},
   "outputs": [],
   "source": [
    "# Import libraries\n",
    "import numpy as np"
   ]
  },
  {
   "cell_type": "markdown",
   "metadata": {},
   "source": [
    "The dot product is an algebraic operation which takes two equal-sized vectors and returns a single scalar (which is why it is sometimes referred to as the scalar product). In Euclidean geometry, the dot product between the Cartesian components of two vectors is often referred to as the inner product.\n",
    "\n",
    "The dot product is represented by a dot operator:\n",
    "<center>$$s = \\mathbf{x} \\cdot \\mathbf{y}$$</center>\n"
   ]
  },
  {
   "cell_type": "markdown",
   "metadata": {},
   "source": [
    "It is defined as:\n",
    "<center>$$s = \\mathbf{x} \\cdot \\mathbf{y} = \\sum_{i=1}^{n}x_iy_i = x_1y_1 + x_2y_2 + ... + x_ny_n$$</center>"
   ]
  },
  {
   "cell_type": "markdown",
   "metadata": {},
   "source": [
    "In Python, one way to calulate the dot product would be taking the sum of a list comprehension performing element-wise multiplication."
   ]
  },
  {
   "cell_type": "code",
   "execution_count": 2,
   "metadata": {},
   "outputs": [],
   "source": [
    "# Define x and y\n",
    "x = [1, 3, -5]\n",
    "y = [4, -2, -1]"
   ]
  },
  {
   "cell_type": "code",
   "execution_count": 3,
   "metadata": {},
   "outputs": [
    {
     "name": "stdout",
     "output_type": "stream",
     "text": [
      "The dot product of x and y is 3\n"
     ]
    }
   ],
   "source": [
    "def dot(x, y):\n",
    "    \"\"\"Dot product as sum of list comprehension doing element-wise multiplication\"\"\"\n",
    "    return sum(x_i*y_i for x_i, y_i in zip(x, y))\n",
    "\n",
    "print(\"The dot product of x and y is\", dot(x, y))"
   ]
  },
  {
   "cell_type": "markdown",
   "metadata": {},
   "source": [
    "Python 3.5 onwards also has an explicit operator `@` for the dot product (applies to numpy arrays NOT lists):"
   ]
  },
  {
   "cell_type": "code",
   "execution_count": 4,
   "metadata": {},
   "outputs": [
    {
     "name": "stdout",
     "output_type": "stream",
     "text": [
      "The dot product of x and y is 3\n"
     ]
    }
   ],
   "source": [
    "dot_product = np.array(x) @ np.array(y)\n",
    "print(\"The dot product of x and y is\", dot_product)"
   ]
  },
  {
   "cell_type": "markdown",
   "metadata": {},
   "source": [
    "Alternatively, we can use the `np.dot()` function."
   ]
  },
  {
   "cell_type": "code",
   "execution_count": 5,
   "metadata": {},
   "outputs": [
    {
     "name": "stdout",
     "output_type": "stream",
     "text": [
      "The dot product of x and y is 3\n"
     ]
    }
   ],
   "source": [
    "dot_product = np.dot(x, y)\n",
    "print(\"The dot product of x and y is\", dot_product)"
   ]
  },
  {
   "cell_type": "markdown",
   "metadata": {},
   "source": [
    "Keeping to the convention of having $\\mathbf{x}$ and $\\mathbf{y}$ as column vectors, the dot product is equal to the matrix multiplication $\\mathbf{x}^T\\mathbf{y}$.\n",
    "\n",
    "Taking $\\mathbf{x}, \\mathbf{y} \\in \\mathbb{R}^{n \\times 1}$ ($n$-rows, $1$-column therefore column-vectors) and analysing the dimensions during multiplication, we see that $(n \\times 1)^T(n \\times 1) = (1 \\times n)(n \\times 1) = (1 \\times 1)$ as expected."
   ]
  },
  {
   "cell_type": "markdown",
   "metadata": {},
   "source": [
    "Using NumPy (and defining the column vectors as matrices):"
   ]
  },
  {
   "cell_type": "code",
   "execution_count": 6,
   "metadata": {},
   "outputs": [
    {
     "name": "stdout",
     "output_type": "stream",
     "text": [
      "x has shape (3, 1) and y has shape (3, 1)\n"
     ]
    }
   ],
   "source": [
    "x = np.expand_dims(np.array(x), axis=1)\n",
    "y = np.expand_dims(np.array(y), axis=1)\n",
    "print(\"x has shape {} and y has shape {}\".format(x.shape, y.shape))"
   ]
  },
  {
   "cell_type": "code",
   "execution_count": 7,
   "metadata": {},
   "outputs": [
    {
     "name": "stdout",
     "output_type": "stream",
     "text": [
      "The dot product of x and y using matrix multiplication is [[3]]\n",
      "The result has shape (1, 1)\n"
     ]
    }
   ],
   "source": [
    "dot_product = np.matmul(x.T, y)  # Note that we have transposed x\n",
    "print(\"The dot product of x and y using matrix multiplication is\", dot_product)\n",
    "print(\"The result has shape {}\".format(dot_product.shape))"
   ]
  },
  {
   "cell_type": "markdown",
   "metadata": {},
   "source": [
    "The result of the multiplication is a $1 \\times 1$ matrix as expected. In practice, a $1 \\times 1$ is commonly also referred to as a scalar."
   ]
  },
  {
   "cell_type": "markdown",
   "metadata": {},
   "source": [
    "### Geometric Definition"
   ]
  },
  {
   "cell_type": "markdown",
   "metadata": {},
   "source": [
    "In Euclidean space, a Euclidean vector has both magnitude and direction. The magnitude of a vector $\\mathbf{x}$ is denoted by $\\left\\|\\mathbf{x} \\right\\|$. The dot product of two Euclidean vectors $\\mathbf{x}$ and $\\mathbf{y}$ is defined by:\n",
    "\n",
    "<center>$$\\mathbf{x} \\cdot \\mathbf{y} =\\|\\mathbf {x} \\|\\ \\|\\mathbf {y} \\|\\cos(\\theta)$$</center>"
   ]
  },
  {
   "cell_type": "markdown",
   "metadata": {},
   "source": [
    "Where $\\theta$ is the angle between the two vectors."
   ]
  },
  {
   "cell_type": "markdown",
   "metadata": {},
   "source": [
    "This gives us an easy way to test for orthogonality between vectors. If $\\mathbf{x}$ and $\\mathbf{y}$ are orthogonal (the angle between vectors is $90°$) then since $\\cos(90^{\\circ })=0$, it implies that <strong>the dot product of any two orthogonal vectors must be $0$</strong>."
   ]
  },
  {
   "cell_type": "code",
   "execution_count": 8,
   "metadata": {},
   "outputs": [
    {
     "name": "stdout",
     "output_type": "stream",
     "text": [
      "The dot product of x and y is 0\n"
     ]
    }
   ],
   "source": [
    "# Let's test this by defining two vectors we know are orthogonal\n",
    "x = [1, 0, 0]\n",
    "y = [0, 1, 0]\n",
    "print(\"The dot product of x and y is\", dot(x, y))"
   ]
  },
  {
   "cell_type": "markdown",
   "metadata": {},
   "source": [
    "For more interesting properties, see: https://en.wikipedia.org/wiki/Dot_product"
   ]
  }
 ],
 "metadata": {
  "kernelspec": {
   "display_name": "Python 3",
   "language": "python",
   "name": "python3"
  },
  "language_info": {
   "codemirror_mode": {
    "name": "ipython",
    "version": 3
   },
   "file_extension": ".py",
   "mimetype": "text/x-python",
   "name": "python",
   "nbconvert_exporter": "python",
   "pygments_lexer": "ipython3",
   "version": "3.7.1"
  }
 },
 "nbformat": 4,
 "nbformat_minor": 2
}
