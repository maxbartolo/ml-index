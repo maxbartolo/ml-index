{
 "cells": [
  {
   "cell_type": "markdown",
   "metadata": {
    "collapsed": true
   },
   "source": [
    "# Tensors\n",
    "<hr />"
   ]
  },
  {
   "cell_type": "code",
   "execution_count": 1,
   "metadata": {},
   "outputs": [],
   "source": [
    "# Import libraries\n",
    "import numpy as np"
   ]
  },
  {
   "cell_type": "markdown",
   "metadata": {},
   "source": [
    "In the context of Machine Learning, it is convenient to think of a tensor as an $n$-dimensional array. Tensor dimensionality is also commonly referred to as its *order*, *degree* or *rank*, which formally is the sum of the tensor contravariant and covariant indices.\n",
    "\n",
    "Scalars are $0$-th order tensors. Vectors can be represented as $1$-dimensional arrays and are therefore $1$st-order tensors. In a fixed basis, a standard linear map that maps a vector to a vector, is represented by a matrix (a $2$-dimensional array) and is therefore a $2$nd-order tensor. Note that not all multidimensional arrays are necessarily a representation of a tensor (see <a href=\"https://en.wikipedia.org/wiki/Tensor#Holors\" target=\"_blank\">*holors*</a>).\n",
    "\n",
    "For an $n$-dimensional array, elements are identified by $n$ coordinates. For example, a $3$-dimensional tensor $T$ would have elements identified by $\\mathbf{T}_{i, j, k}$</span>.\n",
    "\n",
    "Tensors are usually given uppercase variable names in a bold sans-serif font (note that the font used here isn't sans-serif, but ideally it should be)."
   ]
  },
  {
   "cell_type": "markdown",
   "metadata": {
    "collapsed": true
   },
   "source": [
    "We can represent a 3-dimensional tensor as a NumPy array in Python:"
   ]
  },
  {
   "cell_type": "code",
   "execution_count": 2,
   "metadata": {},
   "outputs": [
    {
     "name": "stdout",
     "output_type": "stream",
     "text": [
      "Element at indices i=2, j=0, k=5 is 0.986\n",
      "T has shape (5, 6, 7)\n"
     ]
    }
   ],
   "source": [
    "# Create a 3-dimensional array filled with 1s\n",
    "T = np.ones(shape=(5, 6, 7))\n",
    "\n",
    "# We could also create a 3-dimensional array populated with random samples from a uniform distribution over [0, 1).\n",
    "# [0, 1) means the range between 0 and 1 inclusive of 0 and exclusive of 1\n",
    "T = np.random.random_sample(size=(5, 6, 7))\n",
    "\n",
    "# This is a convenience function for np.random.rand where we don't use a tuple to specify the shape\n",
    "# Instead we pass the dimensions as integers\n",
    "T = np.random.rand(5, 6, 7)\n",
    "\n",
    "print(\"Element at indices i={}, j={}, k={} is {:.3F}\".format(2, 0, 5, T[2, 0, 5]))\n",
    "print(\"T has shape {}\".format(T.shape))"
   ]
  },
  {
   "cell_type": "markdown",
   "metadata": {},
   "source": [
    "Another useful function is `np.random.randn()` which populates the array with samples drawn from the *standard normal* distribution. A *standard* distribution refers to the case with zero mean and unit standard deviation (therefore also unit variance) i.e. with parameters $\\mu = 0, \\sigma = 1$ which is also *normal* (i.e. the integral of the probability density is $1$)."
   ]
  }
 ],
 "metadata": {
  "kernelspec": {
   "display_name": "Python 3",
   "language": "python",
   "name": "python3"
  },
  "language_info": {
   "codemirror_mode": {
    "name": "ipython",
    "version": 3
   },
   "file_extension": ".py",
   "mimetype": "text/x-python",
   "name": "python",
   "nbconvert_exporter": "python",
   "pygments_lexer": "ipython3",
   "version": "3.7.1"
  }
 },
 "nbformat": 4,
 "nbformat_minor": 2
}
