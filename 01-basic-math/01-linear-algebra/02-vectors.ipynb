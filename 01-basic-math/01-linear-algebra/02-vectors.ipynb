{
 "cells": [
  {
   "cell_type": "markdown",
   "metadata": {
    "collapsed": true
   },
   "source": [
    "# Vectors\n",
    "<hr />"
   ]
  },
  {
   "cell_type": "code",
   "execution_count": 1,
   "metadata": {},
   "outputs": [],
   "source": [
    "# Import libraries\n",
    "import numpy as np"
   ]
  },
  {
   "cell_type": "markdown",
   "metadata": {},
   "source": [
    "A vector is an array of numbers. We can identify each individual number by its index in that ordering. Typically, we give vectors lowercase names in bold typeface, such as $\\mathbf{x}$.\n",
    "\n",
    "Individual elements in the vector can be identified by the name in italics with a subscript indicating the element position. Vectors are conventionally 1-index.\n",
    "\n",
    "<center>$\\mathbf{x} = [x_1, x_2, ..., x_n]^T$</center>\n",
    "\n",
    "Vectors are typically assumed to be column vectors, which is why we represent the example as the transpose of a row vector."
   ]
  },
  {
   "cell_type": "markdown",
   "metadata": {},
   "source": [
    "We can represent a vector as a list in Python."
   ]
  },
  {
   "cell_type": "code",
   "execution_count": 2,
   "metadata": {},
   "outputs": [
    {
     "name": "stdout",
     "output_type": "stream",
     "text": [
      "Third element in vector x is 3\n",
      "x is of type <class 'list'>\n"
     ]
    }
   ],
   "source": [
    "x = [7, 4, 3, 2]\n",
    "\n",
    "# Python is zero-indexed so x[2] will give the third element in the vector\n",
    "print(\"Third element in vector x is {}\".format(x[2]))\n",
    "print(\"x is of type {}\".format(type(x)))"
   ]
  },
  {
   "cell_type": "markdown",
   "metadata": {},
   "source": [
    "We can also represent a vector as a NumPy (http://www.numpy.org/) array. NumPy features a powerful N-dimensional array object and many useful tools and functions used in linear algebra."
   ]
  },
  {
   "cell_type": "code",
   "execution_count": 3,
   "metadata": {},
   "outputs": [
    {
     "name": "stdout",
     "output_type": "stream",
     "text": [
      "Third element in vector x is 3. x is of type <class 'numpy.ndarray'>\n",
      "x is of type <class 'numpy.ndarray'>\n",
      "x has shape (4,)\n"
     ]
    }
   ],
   "source": [
    "x = np.array([7, 4, 3, 2])\n",
    "print(\"Third element in vector x is {}. x is of type {}\".format(x[2], type(x)))\n",
    "print(\"x is of type {}\".format(type(x)))\n",
    "\n",
    "# Using NumPy arrays gives us access to more specialised functions\n",
    "print(\"x has shape {}\".format(x.shape))"
   ]
  }
 ],
 "metadata": {
  "kernelspec": {
   "display_name": "Python 3",
   "language": "python",
   "name": "python3"
  },
  "language_info": {
   "codemirror_mode": {
    "name": "ipython",
    "version": 3
   },
   "file_extension": ".py",
   "mimetype": "text/x-python",
   "name": "python",
   "nbconvert_exporter": "python",
   "pygments_lexer": "ipython3",
   "version": "3.7.1"
  }
 },
 "nbformat": 4,
 "nbformat_minor": 2
}
