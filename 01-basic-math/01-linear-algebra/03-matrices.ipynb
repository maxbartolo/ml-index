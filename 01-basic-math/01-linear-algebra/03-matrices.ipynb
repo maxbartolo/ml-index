{
 "cells": [
  {
   "cell_type": "markdown",
   "metadata": {
    "collapsed": true
   },
   "source": [
    "# Matrices\n",
    "<hr />"
   ]
  },
  {
   "cell_type": "code",
   "execution_count": 1,
   "metadata": {},
   "outputs": [],
   "source": [
    "# Import libraries\n",
    "import numpy as np"
   ]
  },
  {
   "cell_type": "markdown",
   "metadata": {},
   "source": [
    "A matrix is a $2$-dimensional (2D) array of numbers. This means that every element in the matrix is identified by two indices, commonly $i$ representing the row-index and $j$ representing the column-index.\n",
    "\n",
    "Matrices are usually given uppercase variable names in bold, such as $\\mathbf{A}$."
   ]
  },
  {
   "cell_type": "markdown",
   "metadata": {},
   "source": [
    "<center>$\\mathbf{A} = \\begin{bmatrix}\n",
    "A_{1,1} & A_{1,2} \\\\\n",
    "A_{2,1} & A_{2,2}\n",
    "\\end{bmatrix}$</center>"
   ]
  },
  {
   "cell_type": "markdown",
   "metadata": {},
   "source": [
    "We use a colon \"*:*\" to represent all the elements across an axis. So, $\\mathbf{A}_{i,:}$ identifies all the elements in the $i$<sup>th</sup> row and $\\mathbf{A}_{:,j}$ identifies all the elements in the $j$<sup>th</sup> column. If a real-valued matrix (i.e. its elements are all real numbers) has $m$ rows and $n$ columns, we show the matrix dimensionality as $\\mathbf{A} \\in \\mathbb{R}^{m \\times n}$."
   ]
  },
  {
   "cell_type": "markdown",
   "metadata": {},
   "source": [
    "In Python, we can represent a matrix as a list of lists, however, it is more convenient to represent matrices and higher-order tensors in packages designed to handle them such as NumPy, TensorFlow or PyTorch."
   ]
  },
  {
   "cell_type": "code",
   "execution_count": 2,
   "metadata": {},
   "outputs": [
    {
     "name": "stdout",
     "output_type": "stream",
     "text": [
      "First element of matrix A is 7\n",
      "Second row of matrix A is [0 8 9 5]\n",
      "A is of type <class 'numpy.ndarray'>\n",
      "A has shape (2, 4)\n"
     ]
    }
   ],
   "source": [
    "A = np.array([[7, 4, 3, 2], [0, 8, 9, 5]])\n",
    "\n",
    "# Python is zero-indexed so A[1,:] will give the second row in the matrix\n",
    "print(\"First element of matrix A is {}\".format(A[0,0]))\n",
    "print(\"Second row of matrix A is {}\".format(A[1,:]))\n",
    "print(\"A is of type {}\".format(type(A)))\n",
    "print(\"A has shape {}\".format(A.shape))  # 2 rows, 4 columns"
   ]
  },
  {
   "cell_type": "markdown",
   "metadata": {},
   "source": [
    "NumPy allows us to do various matrix operations such as element-wise multiplication, matrix multiplication, dimensionality manipulation, broadcasting and more. Some examples can be found below."
   ]
  },
  {
   "cell_type": "code",
   "execution_count": 3,
   "metadata": {},
   "outputs": [
    {
     "name": "stdout",
     "output_type": "stream",
     "text": [
      "[[1. 0.]\n",
      " [0. 1.]]\n"
     ]
    }
   ],
   "source": [
    "# Create a 2x2 identitity matrix\n",
    "B = np.identity(2)\n",
    "print(B)"
   ]
  },
  {
   "cell_type": "code",
   "execution_count": 4,
   "metadata": {},
   "outputs": [
    {
     "name": "stdout",
     "output_type": "stream",
     "text": [
      "[[1. 1. 1. 1.]\n",
      " [1. 1. 1. 1.]]\n"
     ]
    }
   ],
   "source": [
    "# Create a matrix of ones\n",
    "B = np.ones(shape=(2, 4))\n",
    "print(B)"
   ]
  },
  {
   "cell_type": "code",
   "execution_count": 5,
   "metadata": {},
   "outputs": [
    {
     "name": "stdout",
     "output_type": "stream",
     "text": [
      "[[3. 3. 3. 3.]\n",
      " [3. 3. 3. 3.]]\n"
     ]
    }
   ],
   "source": [
    "# Element-wise multiplication by a scalar\n",
    "B = 3*B\n",
    "print(B)"
   ]
  },
  {
   "cell_type": "code",
   "execution_count": 6,
   "metadata": {},
   "outputs": [
    {
     "name": "stdout",
     "output_type": "stream",
     "text": [
      "[[21. 12.  9.  6.]\n",
      " [21. 12.  9.  6.]]\n"
     ]
    }
   ],
   "source": [
    "# Multiplication of a vector and a matrix through broadcasting\n",
    "x = np.array([7, 4, 3, 2])\n",
    "B = x*B\n",
    "print(B)"
   ]
  },
  {
   "cell_type": "code",
   "execution_count": 7,
   "metadata": {},
   "outputs": [
    {
     "name": "stdout",
     "output_type": "stream",
     "text": [
      "[[147.  48.  27.  12.]\n",
      " [  0.  96.  81.  30.]]\n"
     ]
    }
   ],
   "source": [
    "# Element-wise multiplication between two matrices of the same shape\n",
    "C = A*B\n",
    "print(C)"
   ]
  },
  {
   "cell_type": "code",
   "execution_count": 8,
   "metadata": {},
   "outputs": [
    {
     "name": "stdout",
     "output_type": "stream",
     "text": [
      "[[234. 234.]\n",
      " [207. 207.]]\n"
     ]
    }
   ],
   "source": [
    "# Matrix multiplication between two matrices\n",
    "C = A.dot(B.T)  # We transpose B to get a multiplication between matrices of shapes (2, 4) x (4, 2) = (2, 2)\n",
    "print(C)"
   ]
  },
  {
   "cell_type": "code",
   "execution_count": 9,
   "metadata": {},
   "outputs": [
    {
     "name": "stdout",
     "output_type": "stream",
     "text": [
      "[[234. 234.]\n",
      " [207. 202.]]\n"
     ]
    }
   ],
   "source": [
    "# Modify a matrix element in-place\n",
    "C[1,1] -= 5\n",
    "print(C)"
   ]
  },
  {
   "cell_type": "code",
   "execution_count": 10,
   "metadata": {},
   "outputs": [
    {
     "name": "stdout",
     "output_type": "stream",
     "text": [
      "[[-0.17264957  0.2       ]\n",
      " [ 0.17692308 -0.2       ]]\n"
     ]
    }
   ],
   "source": [
    "# We can also invert a square, non-singular matrix\n",
    "C_inv = np.linalg.inv(C)\n",
    "print(C_inv)"
   ]
  },
  {
   "cell_type": "code",
   "execution_count": 11,
   "metadata": {},
   "outputs": [
    {
     "name": "stdout",
     "output_type": "stream",
     "text": [
      "[[-0.17264957  0.2       ]\n",
      " [ 0.17692308 -0.2       ]]\n"
     ]
    }
   ],
   "source": [
    "# Another way to do matrix inversion would be through the NumPy matrix object instead of using arrays\n",
    "D = np.matrix([[234, 234], [207, 202]])\n",
    "D_inv = D.I\n",
    "print(D_inv)"
   ]
  },
  {
   "cell_type": "code",
   "execution_count": 12,
   "metadata": {},
   "outputs": [
    {
     "name": "stdout",
     "output_type": "stream",
     "text": [
      "[[1. 0.]\n",
      " [0. 1.]]\n"
     ]
    }
   ],
   "source": [
    "# The multiplication of a matrix with its inverse should therefore give\n",
    "# the Identity matrix (subject to floating-point inaccuracies)\n",
    "E = D.dot(D_inv)\n",
    "assert np.array_equal(E, np.identity(E.shape[0])), \"E is not equal to the identity matrix of the same shape!\"\n",
    "print(E)"
   ]
  },
  {
   "cell_type": "code",
   "execution_count": 13,
   "metadata": {},
   "outputs": [
    {
     "name": "stdout",
     "output_type": "stream",
     "text": [
      "Original matrix shape is (2, 2)\n",
      "Matrix shape after expanding dimensions on axis 1 is (2, 1, 2)\n"
     ]
    }
   ],
   "source": [
    "# Expand a matrix dimensions\n",
    "print(\"Original matrix shape is\", E.shape)\n",
    "E = np.expand_dims(E, axis=1)\n",
    "print(\"Matrix shape after expanding dimensions on axis 1 is\", E.shape)"
   ]
  },
  {
   "cell_type": "markdown",
   "metadata": {},
   "source": [
    "For more examples, see https://scipy-lectures.org/intro/numpy/operations.html"
   ]
  }
 ],
 "metadata": {
  "kernelspec": {
   "display_name": "Python 3",
   "language": "python",
   "name": "python3"
  },
  "language_info": {
   "codemirror_mode": {
    "name": "ipython",
    "version": 3
   },
   "file_extension": ".py",
   "mimetype": "text/x-python",
   "name": "python",
   "nbconvert_exporter": "python",
   "pygments_lexer": "ipython3",
   "version": "3.7.1"
  }
 },
 "nbformat": 4,
 "nbformat_minor": 2
}
